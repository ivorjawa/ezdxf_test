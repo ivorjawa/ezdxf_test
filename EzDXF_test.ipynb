{
 "cells": [
  {
   "cell_type": "code",
   "execution_count": 24,
   "metadata": {},
   "outputs": [],
   "source": [
    "#import pysal as ps  # 1.5 or higher\n",
    "import numpy as np  # 1.7 or higher\n",
    "#import pandas as pd # 0.10 or higher\n",
    "import matplotlib.pyplot as plt\n",
    "import matplotlib\n",
    "import math as m\n",
    "\n",
    "\n",
    "%matplotlib inline\n",
    "# suppress scientific notation, make columns nice\n",
    "np.set_printoptions(suppress=True, formatter={'float_kind':'{:14.4f}'.format})  "
   ]
  },
  {
   "cell_type": "code",
   "execution_count": 2,
   "metadata": {},
   "outputs": [],
   "source": [
    "# https://ezdxf.readthedocs.io/en/stable/tutorials/spline.html\n",
    "import ezdxf\n",
    "from ezdxf import bbox"
   ]
  },
  {
   "cell_type": "code",
   "execution_count": 3,
   "metadata": {},
   "outputs": [
    {
     "data": {
      "text/plain": [
       "BoundingBox([(-49.999999999999986, -65.0, 0.0), (50.0, 50.0, 0.0)])"
      ]
     },
     "execution_count": 3,
     "metadata": {},
     "output_type": "execute_result"
    }
   ],
   "source": [
    "doc = ezdxf.readfile(\"p-plate.dxf\")\n",
    "msp = doc.modelspace()\n",
    "extents = bbox.extents(msp)\n",
    "extents"
   ]
  },
  {
   "cell_type": "code",
   "execution_count": 4,
   "metadata": {},
   "outputs": [
    {
     "data": {
      "text/plain": [
       "3"
      ]
     },
     "execution_count": 4,
     "metadata": {},
     "output_type": "execute_result"
    }
   ],
   "source": [
    "lwp = msp.query('LWPOLYLINE')\n",
    "len(lwp)\n"
   ]
  },
  {
   "cell_type": "code",
   "execution_count": 5,
   "metadata": {},
   "outputs": [
    {
     "data": {
      "text/plain": [
       "['CIRCLE(#100)',\n",
       " 'CIRCLE(#101)',\n",
       " 'CIRCLE(#102)',\n",
       " 'CIRCLE(#103)',\n",
       " 'CIRCLE(#104)',\n",
       " 'CIRCLE(#105)',\n",
       " 'CIRCLE(#106)',\n",
       " 'CIRCLE(#107)',\n",
       " 'LWPOLYLINE(#108)',\n",
       " 'CIRCLE(#109)',\n",
       " 'CIRCLE(#110)',\n",
       " 'CIRCLE(#111)',\n",
       " 'CIRCLE(#112)',\n",
       " 'LWPOLYLINE(#113)',\n",
       " 'LWPOLYLINE(#114)']"
      ]
     },
     "execution_count": 5,
     "metadata": {},
     "output_type": "execute_result"
    }
   ],
   "source": [
    "[str(x) for x in msp]"
   ]
  },
  {
   "cell_type": "code",
   "execution_count": 6,
   "metadata": {},
   "outputs": [
    {
     "data": {
      "text/plain": [
       "(Vec3(0.0, 45.0, 0.0), 3.5000000000000004)"
      ]
     },
     "execution_count": 6,
     "metadata": {},
     "output_type": "execute_result"
    }
   ],
   "source": [
    "msp[0].dxf.center, msp[0].dxf.radius"
   ]
  },
  {
   "cell_type": "code",
   "execution_count": null,
   "metadata": {},
   "outputs": [],
   "source": []
  },
  {
   "cell_type": "code",
   "execution_count": 7,
   "metadata": {},
   "outputs": [
    {
     "name": "stdout",
     "output_type": "stream",
     "text": [
      "[[        0.0000       -40.0000         0.0000]\n",
      " [       40.0000        -0.0000         0.0000]\n",
      " [       40.0000       -60.0000         0.0000]\n",
      " [       50.0000       -60.0000         0.0000]\n",
      " [       50.0000        -0.0000         0.0000]\n",
      " [       -0.0000       -50.0000         0.0000]]\n",
      "[[       42.5000       -20.0000         0.0000]\n",
      " [       42.5000       -10.0000         0.0000]\n",
      " [       47.5000       -10.0000         0.0000]\n",
      " [       47.5000       -20.0000         0.0000]]\n",
      "[[       42.5000       -50.0000         0.0000]\n",
      " [       42.5000       -40.0000         0.0000]\n",
      " [       47.5000       -40.0000         0.0000]\n",
      " [       47.5000       -50.0000         0.0000]]\n",
      "0.0 45.0 3.5000000000000004\n",
      "-22.499999999999996 38.97114317029974 3.5000000000000004\n",
      "-38.97114317029973 22.500000000000004 3.5000000000000004\n",
      "-45.0 9.992007221626409e-15 3.5000000000000004\n",
      "-38.97114317029975 -22.499999999999993 3.5000000000000004\n",
      "-22.500000000000014 -38.971143170299726 3.5000000000000004\n",
      "38.971143170299754 22.499999999999968 3.5000000000000004\n",
      "22.500000000000018 38.971143170299726 3.5000000000000004\n",
      "45.0 0.0 3.4999999999999964\n",
      "0.0 -45.0 3.4999999999999964\n",
      "45.0 -60.0 3.4999999999999964\n",
      "45.0 -30.0 2.4999999999999964\n"
     ]
    },
    {
     "data": {
      "image/png": "[encoded data removed]",
      "text/plain": [
       "<Figure size 576x576 with 1 Axes>"
      ]
     },
     "metadata": {
      "needs_background": "light"
     },
     "output_type": "display_data"
    }
   ],
   "source": [
    "circs = msp.query('CIRCLE')\n",
    "lwp = msp.query('LWPOLYLINE')\n",
    "\n",
    "fig, ax = plt.subplots(figsize=(8, 8))\n",
    "ax.set_aspect('equal')\n",
    "#plt.axis('equal')\n",
    "\n",
    "#sx, sy = coastline2poly2(cl)\n",
    "for p in lwp:\n",
    "    ans = np.array(list(p.vertices_in_wcs())) \n",
    "    print(ans)\n",
    "    sx, sy, sz = ans.transpose()\n",
    "    ax.plot(sx, sy, \"-k\")\n",
    "\n",
    "for c in circs:\n",
    "    x, y, z = c.dxf.center\n",
    "    r = c.dxf.radius\n",
    "    print(x, y, r)\n",
    "    #draw_circle = plt.Circle((x, y), r,fill=False, color='k')\n",
    "    draw_circle = plt.Circle((x, y), r,fill=False)\n",
    "\n",
    "    ax.add_artist(draw_circle)\n",
    "\n",
    "ex, ey = np.array(extents.rect_vertices()).transpose()\n",
    "ax.plot(ex, ey, \"-r\")\n",
    "#plt.fill(sx, sy, \"b\")\n",
    "plt.show()"
   ]
  },
  {
   "cell_type": "code",
   "execution_count": 8,
   "metadata": {},
   "outputs": [
    {
     "data": {
      "text/plain": [
       "12"
      ]
     },
     "execution_count": 8,
     "metadata": {},
     "output_type": "execute_result"
    }
   ],
   "source": [
    "len(circs)"
   ]
  },
  {
   "cell_type": "code",
   "execution_count": 9,
   "metadata": {},
   "outputs": [
    {
     "name": "stdout",
     "output_type": "stream",
     "text": [
      "9.089986237012597e-16 -40.0 -2.4142135623730945\n",
      "40.0 -8.881784197001252e-15 0.0\n",
      "40.0 -60.0 0.9999999999999999\n",
      "50.0 -60.0 0.0\n",
      "50.0 -8.048602713978574e-15 2.4142135623730945\n",
      "-8.048602713978576e-15 -50.0 0.9999999999999999\n"
     ]
    }
   ],
   "source": [
    "for s in lwp[0]:\n",
    "    x, y, sw, ew, b = s\n",
    "    print(x, y, b)"
   ]
  },
  {
   "cell_type": "code",
   "execution_count": 10,
   "metadata": {},
   "outputs": [
    {
     "data": {
      "text/plain": [
       "[<class 'ezdxf.entities.arc.Arc'> ARC(#None),\n",
       " <class 'ezdxf.entities.line.Line'> LINE(#None),\n",
       " <class 'ezdxf.entities.arc.Arc'> ARC(#None),\n",
       " <class 'ezdxf.entities.line.Line'> LINE(#None),\n",
       " <class 'ezdxf.entities.arc.Arc'> ARC(#None),\n",
       " <class 'ezdxf.entities.arc.Arc'> ARC(#None)]"
      ]
     },
     "execution_count": 10,
     "metadata": {},
     "output_type": "execute_result"
    }
   ],
   "source": [
    "ve = list(lwp[0].virtual_entities())\n",
    "ve"
   ]
  },
  {
   "cell_type": "code",
   "execution_count": 11,
   "metadata": {},
   "outputs": [
    {
     "name": "stdout",
     "output_type": "stream",
     "text": [
      "arc  ARC(#None)\n",
      "line  LINE(#None)\n",
      "arc  ARC(#None)\n",
      "line  LINE(#None)\n",
      "arc  ARC(#None)\n",
      "arc  ARC(#None)\n"
     ]
    }
   ],
   "source": [
    "for e in ve:\n",
    "    if e.__class__ == ezdxf.entities.arc.Arc:\n",
    "        print(\"arc \", e)\n",
    "    elif e.__class__ == ezdxf.entities.line.Line:\n",
    "        print(\"line \", e)\n",
    "    else:\n",
    "        print(\"unknown \", e)\n",
    "    "
   ]
  },
  {
   "cell_type": "code",
   "execution_count": null,
   "metadata": {},
   "outputs": [],
   "source": []
  },
  {
   "cell_type": "code",
   "execution_count": 12,
   "metadata": {},
   "outputs": [
    {
     "data": {
      "text/plain": [
       "(39.999999999999986,\n",
       " Vec3(8.256879418585376e-15, -1.4210854715202004e-14, 0.0),\n",
       " 7.633331235512441e-15,\n",
       " -90.00000000000001)"
      ]
     },
     "execution_count": 12,
     "metadata": {},
     "output_type": "execute_result"
    }
   ],
   "source": [
    "vd = ve[0].dxf\n",
    "vd.radius, vd.center, vd.start_angle, vd.end_angle"
   ]
  },
  {
   "cell_type": "code",
   "execution_count": 18,
   "metadata": {},
   "outputs": [
    {
     "data": {
      "text/plain": [
       "(array([       40.0000,        40.0000]),\n",
       " array([       -0.0000,       -60.0000]))"
      ]
     },
     "execution_count": 18,
     "metadata": {},
     "output_type": "execute_result"
    }
   ],
   "source": [
    "vl = ve[1].dxf\n",
    "vl.start, vl.end\n",
    "\n",
    "x, y, z = np.array((vl.start, vl.end)).transpose()\n",
    "x, y"
   ]
  },
  {
   "cell_type": "code",
   "execution_count": 27,
   "metadata": {},
   "outputs": [
    {
     "name": "stdout",
     "output_type": "stream",
     "text": [
      "arc  ARC(#None)\n",
      "line  LINE(#None)\n",
      "arc  ARC(#None)\n",
      "line  LINE(#None)\n",
      "arc  ARC(#None)\n",
      "arc  ARC(#None)\n",
      "line  LINE(#None)\n",
      "arc  ARC(#None)\n",
      "line  LINE(#None)\n",
      "arc  ARC(#None)\n",
      "line  LINE(#None)\n",
      "arc  ARC(#None)\n",
      "line  LINE(#None)\n",
      "arc  ARC(#None)\n",
      "0.0 45.0 3.5000000000000004\n",
      "-22.499999999999996 38.97114317029974 3.5000000000000004\n",
      "-38.97114317029973 22.500000000000004 3.5000000000000004\n",
      "-45.0 9.992007221626409e-15 3.5000000000000004\n",
      "-38.97114317029975 -22.499999999999993 3.5000000000000004\n",
      "-22.500000000000014 -38.971143170299726 3.5000000000000004\n",
      "38.971143170299754 22.499999999999968 3.5000000000000004\n",
      "22.500000000000018 38.971143170299726 3.5000000000000004\n",
      "45.0 0.0 3.4999999999999964\n",
      "0.0 -45.0 3.4999999999999964\n",
      "45.0 -60.0 3.4999999999999964\n",
      "45.0 -30.0 2.4999999999999964\n"
     ]
    },
    {
     "data": {
      "image/png": "[encoded data removed]",
      "text/plain": [
       "<Figure size 576x576 with 1 Axes>"
      ]
     },
     "metadata": {
      "needs_background": "light"
     },
     "output_type": "display_data"
    }
   ],
   "source": [
    "circs = msp.query('CIRCLE')\n",
    "lwp = msp.query('LWPOLYLINE')\n",
    "\n",
    "fig, ax = plt.subplots(figsize=(8, 8))\n",
    "ax.set_aspect('equal')\n",
    "#plt.axis('equal')\n",
    "ex, ey = np.array(extents.rect_vertices()).transpose()\n",
    "ax.plot(ex, ey, \"-r\")\n",
    "\n",
    "#sx, sy = coastline2poly2(cl)\n",
    "for p in lwp:\n",
    "    #ans = np.array(list(p.vertices_in_wcs())) \n",
    "    #print(ans)\n",
    "    #sx, sy, sz = ans.transpose()\n",
    "    #ax.plot(sx, sy, \"-k\")\n",
    "    ve = p.virtual_entities()\n",
    "    for ent in ve:\n",
    "        if ent.__class__ == ezdxf.entities.arc.Arc:\n",
    "            vd = ent.dxf\n",
    "            draw_arc = matplotlib.patches.Arc(vd.center, 2*vd.radius, 2*vd.radius, \n",
    "                       angle=0.0, theta1=vd.start_angle, theta2=vd.end_angle, color='k')\n",
    "            ax.add_artist(draw_arc)\n",
    "            print(\"arc \", ent)\n",
    "        elif ent.__class__ == ezdxf.entities.line.Line:\n",
    "            vl = ent.dxf\n",
    "            x, y, z = np.array((vl.start, vl.end)).transpose()\n",
    "            ax.plot(x, y, \"-k\")\n",
    "            print(\"line \", ent)\n",
    "        else:\n",
    "            print(\"unknown \", ent)\n",
    "\n",
    "for c in circs:\n",
    "    x, y, z = c.dxf.center\n",
    "    r = c.dxf.radius\n",
    "    print(x, y, r)\n",
    "    #draw_circle = plt.Circle((x, y), r,fill=False, color='k')\n",
    "    draw_circle = plt.Circle((x, y), r,fill=False)\n",
    "\n",
    "    ax.add_artist(draw_circle)\n",
    "\n",
    "\n",
    "#plt.fill(sx, sy, \"b\")\n",
    "plt.show()\n",
    "\n"
   ]
  },
  {
   "cell_type": "code",
   "execution_count": null,
   "metadata": {},
   "outputs": [],
   "source": []
  }
 ],
 "metadata": {
  "kernelspec": {
   "display_name": "Python 3",
   "language": "python",
   "name": "python3"
  },
  "language_info": {
   "codemirror_mode": {
    "name": "ipython",
    "version": 3
   },
   "file_extension": ".py",
   "mimetype": "text/x-python",
   "name": "python",
   "nbconvert_exporter": "python",
   "pygments_lexer": "ipython3",
   "version": "3.7.6"
  }
 },
 "nbformat": 4,
 "nbformat_minor": 2
}
